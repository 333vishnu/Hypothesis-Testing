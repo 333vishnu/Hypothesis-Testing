{
 "cells": [
  {
   "cell_type": "code",
   "execution_count": 1,
   "id": "6d461578",
   "metadata": {
    "ExecuteTime": {
     "end_time": "2022-11-13T12:42:52.048173Z",
     "start_time": "2022-11-13T12:42:51.407269Z"
    }
   },
   "outputs": [],
   "source": [
    "import pandas as pd\n",
    "import numpy as np\n",
    "from scipy import stats"
   ]
  },
  {
   "cell_type": "code",
   "execution_count": 2,
   "id": "690e6a4a",
   "metadata": {
    "ExecuteTime": {
     "end_time": "2022-11-13T12:43:39.403114Z",
     "start_time": "2022-11-13T12:43:39.385806Z"
    }
   },
   "outputs": [],
   "source": [
    "df=pd.read_csv(\"Cutlets.csv\")"
   ]
  },
  {
   "cell_type": "code",
   "execution_count": 3,
   "id": "64d91e9c",
   "metadata": {
    "ExecuteTime": {
     "end_time": "2022-11-13T12:44:14.656119Z",
     "start_time": "2022-11-13T12:44:14.646119Z"
    }
   },
   "outputs": [
    {
     "data": {
      "text/plain": [
       "ShapiroResult(statistic=0.9649458527565002, pvalue=0.3199819028377533)"
      ]
     },
     "execution_count": 3,
     "metadata": {},
     "output_type": "execute_result"
    }
   ],
   "source": [
    "stats.shapiro(df[\"Unit A\"])"
   ]
  },
  {
   "cell_type": "code",
   "execution_count": 4,
   "id": "7db21aba",
   "metadata": {
    "ExecuteTime": {
     "end_time": "2022-11-13T12:44:58.319756Z",
     "start_time": "2022-11-13T12:44:58.313371Z"
    }
   },
   "outputs": [
    {
     "name": "stdout",
     "output_type": "stream",
     "text": [
      "P value for Unit A == 0.32 > α\n"
     ]
    }
   ],
   "source": [
    "print(\"P value for Unit A == 0.32 > α\")"
   ]
  },
  {
   "cell_type": "code",
   "execution_count": 5,
   "id": "4ee99175",
   "metadata": {
    "ExecuteTime": {
     "end_time": "2022-11-13T12:45:18.040535Z",
     "start_time": "2022-11-13T12:45:18.033516Z"
    }
   },
   "outputs": [
    {
     "data": {
      "text/plain": [
       "ShapiroResult(statistic=0.9727300405502319, pvalue=0.5224985480308533)"
      ]
     },
     "execution_count": 5,
     "metadata": {},
     "output_type": "execute_result"
    }
   ],
   "source": [
    "stats.shapiro(df[\"Unit B\"])"
   ]
  },
  {
   "cell_type": "code",
   "execution_count": 6,
   "id": "75950729",
   "metadata": {
    "ExecuteTime": {
     "end_time": "2022-11-13T12:45:43.987058Z",
     "start_time": "2022-11-13T12:45:43.972031Z"
    }
   },
   "outputs": [
    {
     "name": "stdout",
     "output_type": "stream",
     "text": [
      "P value for Unit B == 0.52 > α\n"
     ]
    }
   ],
   "source": [
    "print(\"P value for Unit B == 0.52 > α\")"
   ]
  },
  {
   "cell_type": "code",
   "execution_count": 8,
   "id": "2abe32fe",
   "metadata": {
    "ExecuteTime": {
     "end_time": "2022-11-13T12:47:15.820439Z",
     "start_time": "2022-11-13T12:47:15.815432Z"
    }
   },
   "outputs": [
    {
     "name": "stdout",
     "output_type": "stream",
     "text": [
      "HO is accepted. Thats is both Y1 and Y2 are normal\n"
     ]
    }
   ],
   "source": [
    "print(\"HO is accepted. Thats is both Y1 and Y2 are normal\")"
   ]
  },
  {
   "cell_type": "code",
   "execution_count": 9,
   "id": "8ab7235f",
   "metadata": {
    "ExecuteTime": {
     "end_time": "2022-11-13T12:49:47.795209Z",
     "start_time": "2022-11-13T12:49:47.786367Z"
    }
   },
   "outputs": [
    {
     "name": "stdout",
     "output_type": "stream",
     "text": [
      "model-5\n",
      "H0 == Mean for Y1 and Y2 are equal (There is no significance difference between diameter of the Culets\n",
      "H1 == Mean for Y1 and Y2 are not equal (There is a significance difference between diameter of the Culets)\n"
     ]
    }
   ],
   "source": [
    "print(\"model-5\")\n",
    "print(\"H0 == Mean for Y1 and Y2 are equal (There is no significance difference between diameter of the Culets\")\n",
    "print(\"H1 == Mean for Y1 and Y2 are not equal (There is a significance difference between diameter of the Culets)\")"
   ]
  },
  {
   "cell_type": "code",
   "execution_count": 10,
   "id": "37d4be51",
   "metadata": {
    "ExecuteTime": {
     "end_time": "2022-11-13T12:50:03.093136Z",
     "start_time": "2022-11-13T12:50:03.069154Z"
    }
   },
   "outputs": [
    {
     "data": {
      "text/plain": [
       "Ttest_relResult(statistic=0.7536787225614314, pvalue=0.4562300768038412)"
      ]
     },
     "execution_count": 10,
     "metadata": {},
     "output_type": "execute_result"
    }
   ],
   "source": [
    "stats.ttest_rel(df[\"Unit A\"], df[\"Unit B\"])"
   ]
  },
  {
   "cell_type": "code",
   "execution_count": 11,
   "id": "02643308",
   "metadata": {
    "ExecuteTime": {
     "end_time": "2022-11-13T12:50:30.923886Z",
     "start_time": "2022-11-13T12:50:30.915890Z"
    }
   },
   "outputs": [
    {
     "name": "stdout",
     "output_type": "stream",
     "text": [
      "P value of the Paired T Test is == 0.45 > α\n"
     ]
    }
   ],
   "source": [
    "print(\"P value of the Paired T Test is == 0.45 > α\")"
   ]
  },
  {
   "cell_type": "code",
   "execution_count": 12,
   "id": "382d80a5",
   "metadata": {
    "ExecuteTime": {
     "end_time": "2022-11-13T12:51:25.301713Z",
     "start_time": "2022-11-13T12:51:25.296708Z"
    }
   },
   "outputs": [
    {
     "name": "stdout",
     "output_type": "stream",
     "text": [
      "Thus H0 is accepted.\n",
      "Mean of both Y1 and Y2 are equal\n"
     ]
    }
   ],
   "source": [
    "print(\"Thus H0 is accepted.\")\n",
    "print(\"Mean of both Y1 and Y2 are equal\")"
   ]
  },
  {
   "cell_type": "code",
   "execution_count": null,
   "id": "fd83dbee",
   "metadata": {},
   "outputs": [],
   "source": []
  },
  {
   "cell_type": "code",
   "execution_count": null,
   "id": "1259a35b",
   "metadata": {},
   "outputs": [],
   "source": []
  },
  {
   "cell_type": "code",
   "execution_count": null,
   "id": "0568d33d",
   "metadata": {},
   "outputs": [],
   "source": []
  },
  {
   "cell_type": "code",
   "execution_count": null,
   "id": "dcde9963",
   "metadata": {},
   "outputs": [],
   "source": []
  },
  {
   "cell_type": "code",
   "execution_count": null,
   "id": "dfedb00f",
   "metadata": {},
   "outputs": [],
   "source": []
  }
 ],
 "metadata": {
  "kernelspec": {
   "display_name": "Python 3 (ipykernel)",
   "language": "python",
   "name": "python3"
  },
  "language_info": {
   "codemirror_mode": {
    "name": "ipython",
    "version": 3
   },
   "file_extension": ".py",
   "mimetype": "text/x-python",
   "name": "python",
   "nbconvert_exporter": "python",
   "pygments_lexer": "ipython3",
   "version": "3.9.12"
  }
 },
 "nbformat": 4,
 "nbformat_minor": 5
}
