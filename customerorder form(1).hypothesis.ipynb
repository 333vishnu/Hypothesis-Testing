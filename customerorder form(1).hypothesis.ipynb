{
 "cells": [
  {
   "cell_type": "code",
   "execution_count": 1,
   "id": "7b62e746",
   "metadata": {
    "ExecuteTime": {
     "end_time": "2022-11-13T12:30:39.456347Z",
     "start_time": "2022-11-13T12:30:38.745011Z"
    }
   },
   "outputs": [],
   "source": [
    "import pandas as pd\n",
    "import numpy as np\n",
    "from scipy import stats"
   ]
  },
  {
   "cell_type": "code",
   "execution_count": 3,
   "id": "fc6023a1",
   "metadata": {
    "ExecuteTime": {
     "end_time": "2022-11-13T12:38:05.700254Z",
     "start_time": "2022-11-13T12:38:05.690793Z"
    }
   },
   "outputs": [],
   "source": [
    "df=pd.read_csv(\"Costomer+OrderForm.csv\")"
   ]
  },
  {
   "cell_type": "code",
   "execution_count": 4,
   "id": "891c271a",
   "metadata": {
    "ExecuteTime": {
     "end_time": "2022-11-13T12:38:34.737982Z",
     "start_time": "2022-11-13T12:38:34.703133Z"
    }
   },
   "outputs": [
    {
     "data": {
      "text/plain": [
       "(3.8589606858203545,\n",
       " 0.2771020991233144,\n",
       " 3,\n",
       " array([[271.75,  28.25],\n",
       "        [271.75,  28.25],\n",
       "        [271.75,  28.25],\n",
       "        [271.75,  28.25]]))"
      ]
     },
     "execution_count": 4,
     "metadata": {},
     "output_type": "execute_result"
    }
   ],
   "source": [
    "stats.chi2_contingency([df['Phillippines'].value_counts(), df['Indonesia'].value_counts(), df['Malta'].value_counts(), df['India'].value_counts()])"
   ]
  },
  {
   "cell_type": "code",
   "execution_count": 6,
   "id": "392afbb6",
   "metadata": {
    "ExecuteTime": {
     "end_time": "2022-11-13T12:39:54.487366Z",
     "start_time": "2022-11-13T12:39:54.477339Z"
    }
   },
   "outputs": [
    {
     "name": "stdout",
     "output_type": "stream",
     "text": [
      "P value of Chi-Square test == 0.277 > α\n"
     ]
    }
   ],
   "source": [
    "print(\"P value of Chi-Square test == 0.277 > α\")"
   ]
  },
  {
   "cell_type": "code",
   "execution_count": null,
   "id": "ee1315e2",
   "metadata": {},
   "outputs": [],
   "source": []
  },
  {
   "cell_type": "code",
   "execution_count": null,
   "id": "c7dd355c",
   "metadata": {},
   "outputs": [],
   "source": []
  },
  {
   "cell_type": "code",
   "execution_count": null,
   "id": "64e41972",
   "metadata": {},
   "outputs": [],
   "source": []
  }
 ],
 "metadata": {
  "kernelspec": {
   "display_name": "Python 3 (ipykernel)",
   "language": "python",
   "name": "python3"
  },
  "language_info": {
   "codemirror_mode": {
    "name": "ipython",
    "version": 3
   },
   "file_extension": ".py",
   "mimetype": "text/x-python",
   "name": "python",
   "nbconvert_exporter": "python",
   "pygments_lexer": "ipython3",
   "version": "3.9.12"
  }
 },
 "nbformat": 4,
 "nbformat_minor": 5
}
