{
 "cells": [
  {
   "cell_type": "code",
   "execution_count": 1,
   "id": "5aa0afe7",
   "metadata": {
    "ExecuteTime": {
     "end_time": "2022-11-13T12:54:42.534547Z",
     "start_time": "2022-11-13T12:54:41.907905Z"
    }
   },
   "outputs": [],
   "source": [
    "import pandas as pd\n",
    "import numpy as np\n",
    "from scipy import stats"
   ]
  },
  {
   "cell_type": "code",
   "execution_count": 2,
   "id": "001ea16c",
   "metadata": {
    "ExecuteTime": {
     "end_time": "2022-11-13T12:56:14.345577Z",
     "start_time": "2022-11-13T12:56:14.334563Z"
    }
   },
   "outputs": [
    {
     "name": "stdout",
     "output_type": "stream",
     "text": [
      "normality test\n"
     ]
    }
   ],
   "source": [
    "print(\"normality test\")"
   ]
  },
  {
   "cell_type": "code",
   "execution_count": 3,
   "id": "df878fef",
   "metadata": {
    "ExecuteTime": {
     "end_time": "2022-11-13T12:56:52.697481Z",
     "start_time": "2022-11-13T12:56:52.686470Z"
    }
   },
   "outputs": [],
   "source": [
    "df = pd.read_csv(\"LabTAT.csv\")"
   ]
  },
  {
   "cell_type": "code",
   "execution_count": 4,
   "id": "c9e90e58",
   "metadata": {
    "ExecuteTime": {
     "end_time": "2022-11-13T12:57:09.854268Z",
     "start_time": "2022-11-13T12:57:09.829591Z"
    }
   },
   "outputs": [
    {
     "data": {
      "text/plain": [
       "ShapiroResult(statistic=0.9901824593544006, pvalue=0.5506953597068787)"
      ]
     },
     "execution_count": 4,
     "metadata": {},
     "output_type": "execute_result"
    }
   ],
   "source": [
    "stats.shapiro(df[\"Laboratory 1\"])"
   ]
  },
  {
   "cell_type": "code",
   "execution_count": 5,
   "id": "1be00659",
   "metadata": {
    "ExecuteTime": {
     "end_time": "2022-11-13T12:57:39.981002Z",
     "start_time": "2022-11-13T12:57:39.969985Z"
    }
   },
   "outputs": [
    {
     "name": "stdout",
     "output_type": "stream",
     "text": [
      "P value for Laboratory 1 == 0.55 > α\n"
     ]
    }
   ],
   "source": [
    "print(\"P value for Laboratory 1 == 0.55 > α\")"
   ]
  },
  {
   "cell_type": "code",
   "execution_count": 6,
   "id": "b84994dc",
   "metadata": {
    "ExecuteTime": {
     "end_time": "2022-11-13T12:57:56.993748Z",
     "start_time": "2022-11-13T12:57:56.983723Z"
    }
   },
   "outputs": [
    {
     "data": {
      "text/plain": [
       "ShapiroResult(statistic=0.9936322569847107, pvalue=0.8637524843215942)"
      ]
     },
     "execution_count": 6,
     "metadata": {},
     "output_type": "execute_result"
    }
   ],
   "source": [
    "stats.shapiro(df[\"Laboratory 2\"])"
   ]
  },
  {
   "cell_type": "code",
   "execution_count": 7,
   "id": "bc9c8031",
   "metadata": {
    "ExecuteTime": {
     "end_time": "2022-11-13T12:58:21.474223Z",
     "start_time": "2022-11-13T12:58:21.467218Z"
    }
   },
   "outputs": [
    {
     "name": "stdout",
     "output_type": "stream",
     "text": [
      "P value for Laboratory 2 == 0.86 > α\n"
     ]
    }
   ],
   "source": [
    "print(\"P value for Laboratory 2 == 0.86 > α\")"
   ]
  },
  {
   "cell_type": "code",
   "execution_count": 8,
   "id": "3bffb846",
   "metadata": {
    "ExecuteTime": {
     "end_time": "2022-11-13T12:58:38.354556Z",
     "start_time": "2022-11-13T12:58:38.336005Z"
    }
   },
   "outputs": [
    {
     "data": {
      "text/plain": [
       "ShapiroResult(statistic=0.9886345267295837, pvalue=0.4205053448677063)"
      ]
     },
     "execution_count": 8,
     "metadata": {},
     "output_type": "execute_result"
    }
   ],
   "source": [
    "stats.shapiro(df[\"Laboratory 3\"])"
   ]
  },
  {
   "cell_type": "code",
   "execution_count": 9,
   "id": "7a8e5561",
   "metadata": {
    "ExecuteTime": {
     "end_time": "2022-11-13T12:59:03.116801Z",
     "start_time": "2022-11-13T12:59:03.111804Z"
    }
   },
   "outputs": [
    {
     "name": "stdout",
     "output_type": "stream",
     "text": [
      "P value for Laboratory 3 == 0.42 > α\n"
     ]
    }
   ],
   "source": [
    "print(\"P value for Laboratory 3 == 0.42 > α\")"
   ]
  },
  {
   "cell_type": "code",
   "execution_count": 10,
   "id": "e754c880",
   "metadata": {
    "ExecuteTime": {
     "end_time": "2022-11-13T12:59:36.122534Z",
     "start_time": "2022-11-13T12:59:36.116534Z"
    }
   },
   "outputs": [
    {
     "name": "stdout",
     "output_type": "stream",
     "text": [
      "HO is accepted. Thats is Y1, Y2, Y3, and Y4 are normal¶\n"
     ]
    }
   ],
   "source": [
    "print(\"HO is accepted. Thats is Y1, Y2, Y3, and Y4 are normal¶\")"
   ]
  },
  {
   "cell_type": "code",
   "execution_count": 11,
   "id": "534285f0",
   "metadata": {
    "ExecuteTime": {
     "end_time": "2022-11-13T13:00:39.375534Z",
     "start_time": "2022-11-13T13:00:39.349440Z"
    }
   },
   "outputs": [
    {
     "name": "stdout",
     "output_type": "stream",
     "text": [
      "varience\n"
     ]
    },
    {
     "data": {
      "text/plain": [
       "LeveneResult(statistic=2.599642500418024, pvalue=0.05161343808309816)"
      ]
     },
     "execution_count": 11,
     "metadata": {},
     "output_type": "execute_result"
    }
   ],
   "source": [
    "print(\"varience\")\n",
    "stats.levene(df[\"Laboratory 1\"], df[\"Laboratory 2\"], df[\"Laboratory 3\"], df[\"Laboratory 4\"])"
   ]
  },
  {
   "cell_type": "code",
   "execution_count": 12,
   "id": "7bd5685d",
   "metadata": {
    "ExecuteTime": {
     "end_time": "2022-11-13T13:01:05.479840Z",
     "start_time": "2022-11-13T13:01:05.472754Z"
    }
   },
   "outputs": [
    {
     "name": "stdout",
     "output_type": "stream",
     "text": [
      "P Value of Variance test is == 0.051 > α\n"
     ]
    }
   ],
   "source": [
    "print(\"P Value of Variance test is == 0.051 > α\")"
   ]
  },
  {
   "cell_type": "code",
   "execution_count": 13,
   "id": "c29fe06a",
   "metadata": {
    "ExecuteTime": {
     "end_time": "2022-11-13T13:02:29.371585Z",
     "start_time": "2022-11-13T13:02:29.345568Z"
    }
   },
   "outputs": [
    {
     "name": "stdout",
     "output_type": "stream",
     "text": [
      "one way Anova Test\n"
     ]
    },
    {
     "data": {
      "text/plain": [
       "F_onewayResult(statistic=118.70421654401437, pvalue=2.1156708949992414e-57)"
      ]
     },
     "execution_count": 13,
     "metadata": {},
     "output_type": "execute_result"
    }
   ],
   "source": [
    "print(\"one way Anova Test\")\n",
    "stats.stats.f_oneway(df[\"Laboratory 1\"], df[\"Laboratory 2\"], df[\"Laboratory 3\"], df[\"Laboratory 4\"])"
   ]
  },
  {
   "cell_type": "code",
   "execution_count": 14,
   "id": "fa4d258d",
   "metadata": {
    "ExecuteTime": {
     "end_time": "2022-11-13T13:02:52.733082Z",
     "start_time": "2022-11-13T13:02:52.723615Z"
    }
   },
   "outputs": [
    {
     "name": "stdout",
     "output_type": "stream",
     "text": [
      "P value of the One way Anova test is == 2e-16 < α\n"
     ]
    }
   ],
   "source": [
    "print(\"P value of the One way Anova test is == 2e-16 < α\")"
   ]
  },
  {
   "cell_type": "code",
   "execution_count": 15,
   "id": "350ade83",
   "metadata": {
    "ExecuteTime": {
     "end_time": "2022-11-13T13:03:27.789215Z",
     "start_time": "2022-11-13T13:03:27.785221Z"
    }
   },
   "outputs": [
    {
     "name": "stdout",
     "output_type": "stream",
     "text": [
      "Mean TAT for 4 laboratories not equal\n"
     ]
    }
   ],
   "source": [
    "print(\"Mean TAT for 4 laboratories not equal\")"
   ]
  },
  {
   "cell_type": "code",
   "execution_count": null,
   "id": "1f944cde",
   "metadata": {},
   "outputs": [],
   "source": []
  },
  {
   "cell_type": "code",
   "execution_count": null,
   "id": "f4381f13",
   "metadata": {},
   "outputs": [],
   "source": []
  },
  {
   "cell_type": "code",
   "execution_count": null,
   "id": "8adf1465",
   "metadata": {},
   "outputs": [],
   "source": []
  }
 ],
 "metadata": {
  "kernelspec": {
   "display_name": "Python 3 (ipykernel)",
   "language": "python",
   "name": "python3"
  },
  "language_info": {
   "codemirror_mode": {
    "name": "ipython",
    "version": 3
   },
   "file_extension": ".py",
   "mimetype": "text/x-python",
   "name": "python",
   "nbconvert_exporter": "python",
   "pygments_lexer": "ipython3",
   "version": "3.9.12"
  }
 },
 "nbformat": 4,
 "nbformat_minor": 5
}
