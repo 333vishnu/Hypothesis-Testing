{
 "cells": [
  {
   "cell_type": "code",
   "execution_count": 1,
   "id": "fb7bd988",
   "metadata": {
    "ExecuteTime": {
     "end_time": "2022-11-13T11:42:14.100313Z",
     "start_time": "2022-11-13T11:42:12.087833Z"
    }
   },
   "outputs": [],
   "source": [
    "import pandas as pd \n",
    "import numpy as np \n",
    "from scipy import stats"
   ]
  },
  {
   "cell_type": "code",
   "execution_count": 5,
   "id": "17436a6c",
   "metadata": {
    "ExecuteTime": {
     "end_time": "2022-11-13T11:50:52.941164Z",
     "start_time": "2022-11-13T11:50:52.918056Z"
    }
   },
   "outputs": [
    {
     "name": "stdout",
     "output_type": "stream",
     "text": [
      "PROBLEM STATEMENT\n",
      "sales of the product in four different regions is tabulated.find if male-female buyer ratio is similer across the regions\n"
     ]
    }
   ],
   "source": [
    "print (\"PROBLEM STATEMENT\")\n",
    "print (\"sales of the product in four different regions is tabulated.find if male-female buyer ratio is similer across the regions\")"
   ]
  },
  {
   "cell_type": "code",
   "execution_count": 9,
   "id": "f8866690",
   "metadata": {
    "ExecuteTime": {
     "end_time": "2022-11-13T11:54:45.209605Z",
     "start_time": "2022-11-13T11:54:45.193092Z"
    }
   },
   "outputs": [
    {
     "name": "stdout",
     "output_type": "stream",
     "text": [
      "1 - Business Problem\n",
      "Is the male-female buyer rations are similar across regions\n",
      "2 - Data description\n",
      "α == 0.05 (95% Confidence)\n",
      "Y == Discrete\n",
      "X == Discrete\n",
      "Since there are more than 2 variable we will perform Chi-Square test\n"
     ]
    }
   ],
   "source": [
    "print(\"1 - Business Problem\")\n",
    "print(\"Is the male-female buyer rations are similar across regions\")\n",
    "\n",
    "print(\"2 - Data description\")\n",
    "print(\"α == 0.05 (95% Confidence)\")\n",
    "\n",
    "print(\"Y == Discrete\")\n",
    "print(\"X == Discrete\")\n",
    "\n",
    "print(\"Since there are more than 2 variable we will perform Chi-Square test\")"
   ]
  },
  {
   "cell_type": "code",
   "execution_count": 10,
   "id": "b25495a7",
   "metadata": {
    "ExecuteTime": {
     "end_time": "2022-11-13T11:55:42.190320Z",
     "start_time": "2022-11-13T11:55:42.174345Z"
    }
   },
   "outputs": [
    {
     "name": "stdout",
     "output_type": "stream",
     "text": [
      "3.chi-square test\n"
     ]
    }
   ],
   "source": [
    "print(\"3.chi-square test\")"
   ]
  },
  {
   "cell_type": "code",
   "execution_count": 2,
   "id": "df80cb45",
   "metadata": {
    "ExecuteTime": {
     "end_time": "2022-11-13T11:43:26.575240Z",
     "start_time": "2022-11-13T11:43:26.540636Z"
    }
   },
   "outputs": [],
   "source": [
    "df=pd.read_csv(\"BuyerRatio.csv\")"
   ]
  },
  {
   "cell_type": "code",
   "execution_count": 11,
   "id": "a39d6249",
   "metadata": {
    "ExecuteTime": {
     "end_time": "2022-11-13T11:58:03.893781Z",
     "start_time": "2022-11-13T11:58:03.884253Z"
    }
   },
   "outputs": [
    {
     "name": "stdout",
     "output_type": "stream",
     "text": [
      "HO==the male-female buyer ratio are similer across the regions\n",
      "H1==the male-female buyer rations are not similar across regions\n"
     ]
    }
   ],
   "source": [
    "print(\"HO==the male-female buyer ratio are similer across the regions\")\n",
    "print(\"H1==the male-female buyer rations are not similar across regions\")"
   ]
  },
  {
   "cell_type": "code",
   "execution_count": 3,
   "id": "fa813b77",
   "metadata": {
    "ExecuteTime": {
     "end_time": "2022-11-13T11:43:54.878383Z",
     "start_time": "2022-11-13T11:43:54.836998Z"
    }
   },
   "outputs": [
    {
     "data": {
      "text/plain": [
       "(1.5959455386610577,\n",
       " 0.6603094907091882,\n",
       " 3,\n",
       " array([[  42.76531299,  442.23468701],\n",
       "        [ 146.81287862, 1518.18712138],\n",
       "        [ 131.11756787, 1355.88243213],\n",
       "        [  72.30424052,  747.69575948]]))"
      ]
     },
     "execution_count": 3,
     "metadata": {},
     "output_type": "execute_result"
    }
   ],
   "source": [
    "stats.chi2_contingency([df[\"East\"], df[\"West\"], df[\"North\"], df[\"South\"]])"
   ]
  },
  {
   "cell_type": "code",
   "execution_count": 13,
   "id": "38600810",
   "metadata": {
    "ExecuteTime": {
     "end_time": "2022-11-13T11:59:21.629083Z",
     "start_time": "2022-11-13T11:59:21.614493Z"
    }
   },
   "outputs": [
    {
     "name": "stdout",
     "output_type": "stream",
     "text": [
      "P value of Chi-Square test == 0.66 > α\n",
      "Thus HO is accepted\n",
      "The male-female buyer rations are similar across regions\n"
     ]
    }
   ],
   "source": [
    "print(\"P value of Chi-Square test == 0.66 > α\")\n",
    "\n",
    "print(\"Thus HO is accepted\")\n",
    "print(\"The male-female buyer rations are similar across regions\")"
   ]
  },
  {
   "cell_type": "code",
   "execution_count": null,
   "id": "f486a46d",
   "metadata": {},
   "outputs": [],
   "source": []
  },
  {
   "cell_type": "code",
   "execution_count": null,
   "id": "b42189b8",
   "metadata": {},
   "outputs": [],
   "source": []
  },
  {
   "cell_type": "code",
   "execution_count": null,
   "id": "c629a0e3",
   "metadata": {},
   "outputs": [],
   "source": []
  },
  {
   "cell_type": "code",
   "execution_count": null,
   "id": "2e0cced8",
   "metadata": {},
   "outputs": [],
   "source": []
  },
  {
   "cell_type": "code",
   "execution_count": null,
   "id": "c28417f2",
   "metadata": {},
   "outputs": [],
   "source": []
  },
  {
   "cell_type": "code",
   "execution_count": null,
   "id": "ebac1c5e",
   "metadata": {},
   "outputs": [],
   "source": []
  },
  {
   "cell_type": "code",
   "execution_count": null,
   "id": "6a8d9889",
   "metadata": {},
   "outputs": [],
   "source": []
  }
 ],
 "metadata": {
  "kernelspec": {
   "display_name": "Python 3 (ipykernel)",
   "language": "python",
   "name": "python3"
  },
  "language_info": {
   "codemirror_mode": {
    "name": "ipython",
    "version": 3
   },
   "file_extension": ".py",
   "mimetype": "text/x-python",
   "name": "python",
   "nbconvert_exporter": "python",
   "pygments_lexer": "ipython3",
   "version": "3.9.12"
  }
 },
 "nbformat": 4,
 "nbformat_minor": 5
}
